{
 "cells": [
  {
   "cell_type": "code",
   "execution_count": 1,
   "metadata": {},
   "outputs": [],
   "source": [
    "import gym\n",
    "import numpy as np\n",
    "env = gym.make('FrozenLake-v0')"
   ]
  },
  {
   "cell_type": "code",
   "execution_count": 26,
   "metadata": {},
   "outputs": [
    {
     "name": "stdout",
     "output_type": "stream",
     "text": [
      "Score over time: \n",
      "0.028\n",
      "Final Q-Table Values\n",
      "[[  1.54799428e-02   1.45314357e-02   1.79744141e-02   1.06266921e-01]\n",
      " [  2.39063468e-03   1.75692455e-03   5.05729122e-03   1.06266921e-01]\n",
      " [  2.62818177e-03   2.40517134e-02   7.56912408e-03   1.06266921e-01]\n",
      " [  3.59579483e-03   4.44604784e-04   2.94483584e-04   1.06266921e-01]\n",
      " [  3.19657864e-01   1.14817223e-03   0.00000000e+00   3.21704735e-03]\n",
      " [  0.00000000e+00   0.00000000e+00   0.00000000e+00   0.00000000e+00]\n",
      " [  4.37092034e-04   2.05346540e-03   2.05587040e-02   2.78055871e-04]\n",
      " [  0.00000000e+00   0.00000000e+00   0.00000000e+00   0.00000000e+00]\n",
      " [  7.61517997e-04   0.00000000e+00   6.51283606e-03   2.12645205e-01]\n",
      " [  2.38405547e-03   4.76236065e-01   0.00000000e+00   0.00000000e+00]\n",
      " [  9.45872015e-01   3.22682744e-03   3.80754253e-03   0.00000000e+00]\n",
      " [  0.00000000e+00   0.00000000e+00   0.00000000e+00   0.00000000e+00]\n",
      " [  0.00000000e+00   0.00000000e+00   0.00000000e+00   0.00000000e+00]\n",
      " [  1.69848371e-03   3.83114963e-04   9.59321752e-01   0.00000000e+00]\n",
      " [  0.00000000e+00   1.05088351e+00   0.00000000e+00   0.00000000e+00]\n",
      " [  0.00000000e+00   0.00000000e+00   0.00000000e+00   0.00000000e+00]]\n"
     ]
    }
   ],
   "source": [
    "Q = np.zeros([env.observation_space.n,env.action_space.n])\n",
    "lr=.8\n",
    "y = 0.95\n",
    "num_episodes = 2000\n",
    "reward_list = []\n",
    "for i in range(num_episodes) :\n",
    "    s = env.reset()\n",
    "    reward_All = 0\n",
    "    d = False\n",
    "    j = 0\n",
    "    while j < 99 :\n",
    "        j+=1\n",
    "        a = np.argmax(Q[s,:] + np.random.randn(1,env.action_space.n)*(1./(i+1)))\n",
    "        s1,r,d,_ = env.step(a)\n",
    "        Q[s,a] = Q[s,a] + lr * (r + y *(np.max(Q[s1, :] - Q[s,a]))) \n",
    "        reward_All += r\n",
    "        s = s1\n",
    "        if d == True:\n",
    "            break\n",
    "    reward_list.append(reward_All)\n",
    "print (\"Score over time: \")\n",
    "print (str(sum(reward_list)/num_episodes) ) \n",
    "print (\"Final Q-Table Values\")\n",
    "print (Q)  "
   ]
  },
  {
   "cell_type": "code",
   "execution_count": null,
   "metadata": {},
   "outputs": [],
   "source": []
  },
  {
   "cell_type": "code",
   "execution_count": null,
   "metadata": {},
   "outputs": [],
   "source": []
  },
  {
   "cell_type": "code",
   "execution_count": null,
   "metadata": {},
   "outputs": [],
   "source": []
  },
  {
   "cell_type": "code",
   "execution_count": null,
   "metadata": {},
   "outputs": [],
   "source": []
  }
 ],
 "metadata": {
  "kernelspec": {
   "display_name": "Python 3",
   "language": "python",
   "name": "python3"
  },
  "language_info": {
   "codemirror_mode": {
    "name": "ipython",
    "version": 3
   },
   "file_extension": ".py",
   "mimetype": "text/x-python",
   "name": "python",
   "nbconvert_exporter": "python",
   "pygments_lexer": "ipython3",
   "version": "3.5.2"
  }
 },
 "nbformat": 4,
 "nbformat_minor": 2
}
